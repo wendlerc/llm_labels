{
 "cells": [
  {
   "cell_type": "code",
   "execution_count": 3,
   "id": "de76b3ab",
   "metadata": {
    "execution": {
     "iopub.execute_input": "2022-04-28T08:16:23.654358Z",
     "iopub.status.busy": "2022-04-28T08:16:23.653823Z",
     "iopub.status.idle": "2022-04-28T08:16:25.949844Z",
     "shell.execute_reply": "2022-04-28T08:16:25.950283Z"
    },
    "id": "de76b3ab",
    "outputId": "bbd4f13f-3a48-43ac-f6d0-f547751e070f",
    "papermill": {
     "duration": 2.333018,
     "end_time": "2022-04-28T08:16:25.950458",
     "exception": false,
     "start_time": "2022-04-28T08:16:23.617440",
     "status": "completed"
    },
    "tags": []
   },
   "outputs": [
    {
     "name": "stderr",
     "output_type": "stream",
     "text": [
      "/tmp/ipykernel_785574/2206308960.py:9: DeprecationWarning: Importing display from IPython.core.display is deprecated since IPython 7.14, please import from IPython display\n",
      "  from IPython.core.display import display\n",
      "Global seed set to 7\n"
     ]
    }
   ],
   "source": [
    "import os\n",
    "\n",
    "import pandas as pd\n",
    "import seaborn as sn\n",
    "import torch\n",
    "import torch.nn as nn\n",
    "import torch.nn.functional as F\n",
    "import torchvision\n",
    "from IPython.core.display import display\n",
    "from torchvision.datasets import CIFAR10\n",
    "from pl_bolts.datamodules import CIFAR10DataModule\n",
    "from pl_bolts.transforms.dataset_normalizations import cifar10_normalization\n",
    "from pytorch_lightning import LightningModule, Trainer, seed_everything\n",
    "from pytorch_lightning.callbacks import LearningRateMonitor\n",
    "from pytorch_lightning.callbacks.progress import TQDMProgressBar\n",
    "from pytorch_lightning.loggers import CSVLogger\n",
    "from torch.optim.lr_scheduler import OneCycleLR\n",
    "from torch.optim.swa_utils import AveragedModel, update_bn\n",
    "from torchmetrics.functional import accuracy\n",
    "import json\n",
    "\n",
    "seed_everything(7)\n",
    "\n",
    "PATH_DATASETS = os.environ.get(\"PATH_DATASETS\", \".\")\n",
    "BATCH_SIZE = 256 if torch.cuda.is_available() else 64\n",
    "NUM_WORKERS = int(os.cpu_count() / 2)"
   ]
  },
  {
   "cell_type": "code",
   "execution_count": 4,
   "id": "029b1c58",
   "metadata": {},
   "outputs": [],
   "source": [
    "with open('cifar_10_davinci-001.json', 'r') as f:\n",
    "    class_embeddings = json.load(f)\n",
    "    \n",
    "classids = {'airplane': 0,\n",
    "            'automobile': 1,\n",
    "            'bird': 2,\n",
    "            'cat': 3,\n",
    "            'deer': 4,\n",
    "            'dog': 5,\n",
    "            'frog': 6,\n",
    "            'horse': 7, \n",
    "            'ship': 8,\n",
    "            'truck': 9}\n",
    "classlabels = {value:key for key, value in classids.items()}\n",
    "\n",
    "\n",
    "def target_transform(target):\n",
    "    return torch.tensor(class_embeddings[classlabels[target]])    "
   ]
  },
  {
   "cell_type": "code",
   "execution_count": 5,
   "id": "d74b84fe",
   "metadata": {},
   "outputs": [],
   "source": [
    "dataset = CIFAR10(PATH_DATASETS, target_transform=target_transform)"
   ]
  },
  {
   "cell_type": "code",
   "execution_count": 6,
   "id": "dc3ef87e",
   "metadata": {},
   "outputs": [],
   "source": [
    "n_outputs = dataset[0][1].shape[0]"
   ]
  },
  {
   "cell_type": "markdown",
   "id": "34f13886",
   "metadata": {
    "id": "34f13886",
    "papermill": {
     "duration": 0.066591,
     "end_time": "2022-04-28T08:16:26.050000",
     "exception": false,
     "start_time": "2022-04-28T08:16:25.983409",
     "status": "completed"
    },
    "tags": []
   },
   "source": [
    "### CIFAR10 Data Module\n",
    "\n",
    "Import the existing data module from `bolts` and modify the train and test transforms."
   ]
  },
  {
   "cell_type": "code",
   "execution_count": 7,
   "id": "f6a1c0e6",
   "metadata": {
    "execution": {
     "iopub.execute_input": "2022-04-28T08:16:26.125632Z",
     "iopub.status.busy": "2022-04-28T08:16:26.125100Z",
     "iopub.status.idle": "2022-04-28T08:16:26.128348Z",
     "shell.execute_reply": "2022-04-28T08:16:26.127879Z"
    },
    "id": "f6a1c0e6",
    "outputId": "1f89dd54-3080-4042-da35-efa35a1b5532",
    "papermill": {
     "duration": 0.04236,
     "end_time": "2022-04-28T08:16:26.128471",
     "exception": false,
     "start_time": "2022-04-28T08:16:26.086111",
     "status": "completed"
    },
    "tags": []
   },
   "outputs": [
    {
     "name": "stderr",
     "output_type": "stream",
     "text": [
      "/home/chrisw/miniconda3/envs/openai/lib/python3.8/site-packages/pytorch_lightning/core/datamodule.py:60: LightningDeprecationWarning: DataModule property `train_transforms` was deprecated in v1.5 and will be removed in v1.7.\n",
      "  rank_zero_deprecation(\n",
      "/home/chrisw/miniconda3/envs/openai/lib/python3.8/site-packages/pytorch_lightning/core/datamodule.py:64: LightningDeprecationWarning: DataModule property `val_transforms` was deprecated in v1.5 and will be removed in v1.7.\n",
      "  rank_zero_deprecation(\n",
      "/home/chrisw/miniconda3/envs/openai/lib/python3.8/site-packages/pytorch_lightning/core/datamodule.py:68: LightningDeprecationWarning: DataModule property `test_transforms` was deprecated in v1.5 and will be removed in v1.7.\n",
      "  rank_zero_deprecation(\n"
     ]
    }
   ],
   "source": [
    "\n",
    "train_transforms = torchvision.transforms.Compose(\n",
    "    [\n",
    "        torchvision.transforms.RandomCrop(32, padding=4),\n",
    "        torchvision.transforms.RandomHorizontalFlip(),\n",
    "        torchvision.transforms.ToTensor(),\n",
    "        cifar10_normalization(),\n",
    "    ]\n",
    ")\n",
    "\n",
    "test_transforms = torchvision.transforms.Compose(\n",
    "    [\n",
    "        torchvision.transforms.ToTensor(),\n",
    "        cifar10_normalization(),\n",
    "    ]\n",
    ")\n",
    "\n",
    "cifar10_dm = CIFAR10DataModule(\n",
    "    data_dir=PATH_DATASETS,\n",
    "    batch_size=BATCH_SIZE,\n",
    "    num_workers=NUM_WORKERS,\n",
    "    train_transforms=train_transforms,\n",
    "    test_transforms=test_transforms,\n",
    "    val_transforms=test_transforms,\n",
    ")\n",
    "cifar10_dm.EXTRA_ARGS['target_transform'] = target_transform"
   ]
  },
  {
   "cell_type": "code",
   "execution_count": 8,
   "id": "e5c3e6b7",
   "metadata": {},
   "outputs": [
    {
     "name": "stdout",
     "output_type": "stream",
     "text": [
      "Files already downloaded and verified\n",
      "Files already downloaded and verified\n"
     ]
    },
    {
     "name": "stderr",
     "output_type": "stream",
     "text": [
      "/home/chrisw/miniconda3/envs/openai/lib/python3.8/site-packages/pytorch_lightning/core/datamodule.py:88: LightningDeprecationWarning: DataModule property `train_transforms` was deprecated in v1.5 and will be removed in v1.7.\n",
      "  rank_zero_deprecation(\n",
      "/home/chrisw/miniconda3/envs/openai/lib/python3.8/site-packages/pytorch_lightning/core/datamodule.py:107: LightningDeprecationWarning: DataModule property `val_transforms` was deprecated in v1.5 and will be removed in v1.7.\n",
      "  rank_zero_deprecation(\n",
      "/home/chrisw/miniconda3/envs/openai/lib/python3.8/site-packages/pytorch_lightning/core/datamodule.py:126: LightningDeprecationWarning: DataModule property `test_transforms` was deprecated in v1.5 and will be removed in v1.7.\n",
      "  rank_zero_deprecation(\n"
     ]
    }
   ],
   "source": [
    "cifar10_dm.prepare_data()\n",
    "cifar10_dm.setup()\n",
    "loader = cifar10_dm.train_dataloader()"
   ]
  },
  {
   "cell_type": "code",
   "execution_count": 9,
   "id": "a7455076",
   "metadata": {},
   "outputs": [],
   "source": [
    "batch = next(iter(loader))"
   ]
  },
  {
   "cell_type": "code",
   "execution_count": 10,
   "id": "24e11636",
   "metadata": {},
   "outputs": [
    {
     "data": {
      "text/plain": [
       "tensor([[ 0.0040,  0.0075, -0.0098,  ..., -0.0080,  0.0099, -0.0078],\n",
       "        [-0.0034,  0.0063, -0.0172,  ..., -0.0069,  0.0080, -0.0120],\n",
       "        [-0.0028, -0.0053, -0.0200,  ..., -0.0075,  0.0096, -0.0107],\n",
       "        ...,\n",
       "        [-0.0034,  0.0063, -0.0172,  ..., -0.0069,  0.0080, -0.0120],\n",
       "        [-0.0075,  0.0032, -0.0173,  ..., -0.0073,  0.0149, -0.0104],\n",
       "        [-0.0045,  0.0156, -0.0190,  ..., -0.0112,  0.0120, -0.0034]])"
      ]
     },
     "execution_count": 10,
     "metadata": {},
     "output_type": "execute_result"
    }
   ],
   "source": [
    "batch[1]"
   ]
  },
  {
   "cell_type": "markdown",
   "id": "3ebc0eaa",
   "metadata": {
    "id": "3ebc0eaa",
    "lines_to_next_cell": 2,
    "papermill": {
     "duration": 0.035124,
     "end_time": "2022-04-28T08:16:26.195622",
     "exception": false,
     "start_time": "2022-04-28T08:16:26.160498",
     "status": "completed"
    },
    "tags": []
   },
   "source": [
    "### Resnet\n",
    "Modify the pre-existing Resnet architecture from TorchVision. The pre-existing architecture is based on ImageNet\n",
    "images (224x224) as input. So we need to modify it for CIFAR10 images (32x32)."
   ]
  },
  {
   "cell_type": "code",
   "execution_count": 11,
   "id": "96ff098b",
   "metadata": {
    "execution": {
     "iopub.execute_input": "2022-04-28T08:16:26.265523Z",
     "iopub.status.busy": "2022-04-28T08:16:26.265004Z",
     "iopub.status.idle": "2022-04-28T08:16:26.267046Z",
     "shell.execute_reply": "2022-04-28T08:16:26.267460Z"
    },
    "id": "96ff098b",
    "lines_to_next_cell": 2,
    "papermill": {
     "duration": 0.039053,
     "end_time": "2022-04-28T08:16:26.267599",
     "exception": false,
     "start_time": "2022-04-28T08:16:26.228546",
     "status": "completed"
    },
    "tags": []
   },
   "outputs": [],
   "source": [
    "def create_model():\n",
    "    model = torchvision.models.resnet18(pretrained=False, num_classes=n_outputs)\n",
    "    model.conv1 = nn.Conv2d(3, 64, kernel_size=(3, 3), stride=(1, 1), padding=(1, 1), bias=False)\n",
    "    model.maxpool = nn.Identity()\n",
    "    return model"
   ]
  },
  {
   "cell_type": "markdown",
   "id": "b1a35008",
   "metadata": {
    "id": "b1a35008",
    "lines_to_next_cell": 2,
    "papermill": {
     "duration": 0.036155,
     "end_time": "2022-04-28T08:16:26.337499",
     "exception": false,
     "start_time": "2022-04-28T08:16:26.301344",
     "status": "completed"
    },
    "tags": []
   },
   "source": [
    "### Lightning Module\n",
    "Check out the [`configure_optimizers`](https://pytorch-lightning.readthedocs.io/en/stable/common/lightning_module.html#configure-optimizers)\n",
    "method to use custom Learning Rate schedulers. The OneCycleLR with SGD will get you to around 92-93% accuracy\n",
    "in 20-30 epochs and 93-94% accuracy in 40-50 epochs. Feel free to experiment with different\n",
    "LR schedules from https://pytorch.org/docs/stable/optim.html#how-to-adjust-learning-rate"
   ]
  },
  {
   "cell_type": "code",
   "execution_count": 12,
   "id": "864d4616",
   "metadata": {},
   "outputs": [],
   "source": [
    "class_embeddings_tensor = torch.tensor([class_embeddings[label] for idx, label in classlabels.items()])"
   ]
  },
  {
   "cell_type": "code",
   "execution_count": 13,
   "id": "3e12273c",
   "metadata": {},
   "outputs": [],
   "source": [
    "class_embeddings_tensor = class_embeddings_tensor.to('cuda:0')"
   ]
  },
  {
   "cell_type": "code",
   "execution_count": 14,
   "id": "2dad8bee",
   "metadata": {
    "execution": {
     "iopub.execute_input": "2022-04-28T08:16:26.416028Z",
     "iopub.status.busy": "2022-04-28T08:16:26.415462Z",
     "iopub.status.idle": "2022-04-28T08:16:26.417317Z",
     "shell.execute_reply": "2022-04-28T08:16:26.417741Z"
    },
    "id": "2dad8bee",
    "papermill": {
     "duration": 0.045442,
     "end_time": "2022-04-28T08:16:26.417903",
     "exception": false,
     "start_time": "2022-04-28T08:16:26.372461",
     "status": "completed"
    },
    "tags": []
   },
   "outputs": [],
   "source": [
    "class LitResnet(LightningModule):\n",
    "    def __init__(self, lr=0.05):\n",
    "        super().__init__()\n",
    "\n",
    "        self.save_hyperparameters()\n",
    "        self.model = create_model()\n",
    "\n",
    "    def forward(self, x):\n",
    "        out = self.model(x)\n",
    "        return F.log_softmax(out, dim=1)\n",
    "\n",
    "    def training_step(self, batch, batch_idx):\n",
    "        x, y = batch\n",
    "        embedding = F.normalize(self(x)) # go onto unit sphere where gpt embeddings live\n",
    "        #print(embedding)\n",
    "        #print(y)\n",
    "        loss = F.mse_loss(embedding, y, reduction='sum')\n",
    "        self.log(\"train_loss\", loss)\n",
    "        return loss\n",
    "\n",
    "    def evaluate(self, batch, stage=None):\n",
    "        x, y = batch\n",
    "        embedding = F.normalize(self(x)) # go onto unit sphere where gpt embeddings live\n",
    "        loss = F.mse_loss(embedding, y, reduction='sum')\n",
    "        preds = torch.argmax(embedding @ class_embeddings_tensor.T, dim=1)\n",
    "        true_label = torch.argmax(y @ class_embeddings_tensor.T, dim=1)\n",
    "        acc = accuracy(preds, true_label)\n",
    "\n",
    "        if stage:\n",
    "            self.log(f\"{stage}_loss\", loss, prog_bar=True)\n",
    "            self.log(f\"{stage}_acc\", acc, prog_bar=True)\n",
    "\n",
    "    def validation_step(self, batch, batch_idx):\n",
    "        self.evaluate(batch, \"val\")\n",
    "\n",
    "    def test_step(self, batch, batch_idx):\n",
    "        self.evaluate(batch, \"test\")\n",
    "\n",
    "    def configure_optimizers(self):\n",
    "        optimizer = torch.optim.SGD(\n",
    "            self.parameters(),\n",
    "            lr=self.hparams.lr,\n",
    "            momentum=0.9,\n",
    "            weight_decay=5e-4,\n",
    "        )\n",
    "        steps_per_epoch = 45000 // BATCH_SIZE\n",
    "        scheduler_dict = {\n",
    "            \"scheduler\": OneCycleLR(\n",
    "                optimizer,\n",
    "                0.1,\n",
    "                epochs=self.trainer.max_epochs,\n",
    "                steps_per_epoch=steps_per_epoch,\n",
    "            ),\n",
    "            \"interval\": \"step\",\n",
    "        }\n",
    "        return {\"optimizer\": optimizer, \"lr_scheduler\": scheduler_dict}"
   ]
  },
  {
   "cell_type": "code",
   "execution_count": null,
   "id": "75af1ce6",
   "metadata": {
    "colab": {
     "referenced_widgets": [
      "601f7f2f19734f35b81d452928e7b664",
      "bddb7b6f7d3045b58c684d286860aca2",
      "aee2f55863634bd489ee6a93f590ab1d",
      "fc801be703164975836710a9088a3e2e",
      "2fd0ebdad1cb4cdd8078e88d634a8e94",
      "a74ca8b4deb04d9fa396875fb178433f",
      "38c3342045184d4bb2364468d1aaa8eb",
      "cf2e45e1013b4e0b9a88557a51b7df9d",
      "d9c5f5b858d2414886fe8426f02ba8bf",
      "a4383d04e64545ab994007aaef8f99cc",
      "7587f9e118824d388e41e61f266a865b",
      "7f1d10ebba4749249a34a89e2f0db2e1",
      "75fa976468574d6289b4db59e25239fe",
      "8a851d74606748a0af0eb68ee3b59252",
      "f24c21c7d7fd47d19181ce0e78cc80eb",
      "9b6873f47aa64d71a179b18e3bdd0f9b",
      "db547c77de714f0d9d8aed6238b16a52",
      "635874e03bb34832aad130a3a09dace2",
      "4eaff499e6d743c198a966b529808cf7",
      "fbde9c369f2d48c7a7d3f24c4dc302df",
      "54ca5f6ad2124679a5883a24e27fa925",
      "1257b66b89514d01bfe2be14c3f4cf4a",
      "97871fe8a2794f938e11a7a789653b8c",
      "7741b5d8cde34dc7b36c1d6cd0f771e2",
      "65f5e09b1c1a4bd2bdf265e126fe4308",
      "8fc44743902b44b8bf643cfa2d3d5567",
      "37c2f9e8f4544cb189ad9debf84344e8",
      "c872d37d34dc4e00b72a782170d7a88e",
      "0ae3d35d13ed4f25bd0b09e7154c92df",
      "630e1930b9f14b5794ccecac534541a1",
      "b6e410ec2ba14f8f86a3904e4cca9c5a",
      "53849ee2ab8f41d0814af75ee735556a",
      "42fc6f7641ea45f89ac3a52f7e0f8730",
      "8d2311d8b74f4f6f9fd32346ad7d4a42"
     ]
    },
    "execution": {
     "iopub.execute_input": "2022-04-28T08:16:26.488007Z",
     "iopub.status.busy": "2022-04-28T08:16:26.487474Z",
     "iopub.status.idle": "2022-04-28T08:21:55.895718Z",
     "shell.execute_reply": "2022-04-28T08:21:55.896255Z"
    },
    "id": "75af1ce6",
    "outputId": "23b8a4aa-5746-423b-fc47-6bad9700b55a",
    "papermill": {
     "duration": 329.445947,
     "end_time": "2022-04-28T08:21:55.896421",
     "exception": false,
     "start_time": "2022-04-28T08:16:26.450474",
     "status": "completed"
    },
    "tags": []
   },
   "outputs": [
    {
     "name": "stderr",
     "output_type": "stream",
     "text": [
      "GPU available: True, used: True\n",
      "TPU available: False, using: 0 TPU cores\n",
      "IPU available: False, using: 0 IPUs\n",
      "HPU available: False, using: 0 HPUs\n"
     ]
    },
    {
     "name": "stdout",
     "output_type": "stream",
     "text": [
      "Files already downloaded and verified\n",
      "Files already downloaded and verified\n"
     ]
    },
    {
     "name": "stderr",
     "output_type": "stream",
     "text": [
      "LOCAL_RANK: 0 - CUDA_VISIBLE_DEVICES: [0]\n",
      "\n",
      "  | Name  | Type   | Params\n",
      "---------------------------------\n",
      "0 | model | ResNet | 17.5 M\n",
      "---------------------------------\n",
      "17.5 M    Trainable params\n",
      "0         Non-trainable params\n",
      "17.5 M    Total params\n",
      "69.890    Total estimated model params size (MB)\n"
     ]
    },
    {
     "data": {
      "application/vnd.jupyter.widget-view+json": {
       "model_id": "",
       "version_major": 2,
       "version_minor": 0
      },
      "text/plain": [
       "Sanity Checking: 0it [00:00, ?it/s]"
      ]
     },
     "metadata": {},
     "output_type": "display_data"
    },
    {
     "data": {
      "application/vnd.jupyter.widget-view+json": {
       "model_id": "f226999b565a46c6a77a1040d49508dc",
       "version_major": 2,
       "version_minor": 0
      },
      "text/plain": [
       "Training: 0it [00:00, ?it/s]"
      ]
     },
     "metadata": {},
     "output_type": "display_data"
    },
    {
     "data": {
      "application/vnd.jupyter.widget-view+json": {
       "model_id": "",
       "version_major": 2,
       "version_minor": 0
      },
      "text/plain": [
       "Validation: 0it [00:00, ?it/s]"
      ]
     },
     "metadata": {},
     "output_type": "display_data"
    },
    {
     "data": {
      "application/vnd.jupyter.widget-view+json": {
       "model_id": "",
       "version_major": 2,
       "version_minor": 0
      },
      "text/plain": [
       "Validation: 0it [00:00, ?it/s]"
      ]
     },
     "metadata": {},
     "output_type": "display_data"
    },
    {
     "data": {
      "application/vnd.jupyter.widget-view+json": {
       "model_id": "",
       "version_major": 2,
       "version_minor": 0
      },
      "text/plain": [
       "Validation: 0it [00:00, ?it/s]"
      ]
     },
     "metadata": {},
     "output_type": "display_data"
    },
    {
     "data": {
      "application/vnd.jupyter.widget-view+json": {
       "model_id": "",
       "version_major": 2,
       "version_minor": 0
      },
      "text/plain": [
       "Validation: 0it [00:00, ?it/s]"
      ]
     },
     "metadata": {},
     "output_type": "display_data"
    },
    {
     "data": {
      "application/vnd.jupyter.widget-view+json": {
       "model_id": "",
       "version_major": 2,
       "version_minor": 0
      },
      "text/plain": [
       "Validation: 0it [00:00, ?it/s]"
      ]
     },
     "metadata": {},
     "output_type": "display_data"
    },
    {
     "data": {
      "application/vnd.jupyter.widget-view+json": {
       "model_id": "",
       "version_major": 2,
       "version_minor": 0
      },
      "text/plain": [
       "Validation: 0it [00:00, ?it/s]"
      ]
     },
     "metadata": {},
     "output_type": "display_data"
    },
    {
     "data": {
      "application/vnd.jupyter.widget-view+json": {
       "model_id": "",
       "version_major": 2,
       "version_minor": 0
      },
      "text/plain": [
       "Validation: 0it [00:00, ?it/s]"
      ]
     },
     "metadata": {},
     "output_type": "display_data"
    },
    {
     "data": {
      "application/vnd.jupyter.widget-view+json": {
       "model_id": "",
       "version_major": 2,
       "version_minor": 0
      },
      "text/plain": [
       "Validation: 0it [00:00, ?it/s]"
      ]
     },
     "metadata": {},
     "output_type": "display_data"
    },
    {
     "data": {
      "application/vnd.jupyter.widget-view+json": {
       "model_id": "",
       "version_major": 2,
       "version_minor": 0
      },
      "text/plain": [
       "Validation: 0it [00:00, ?it/s]"
      ]
     },
     "metadata": {},
     "output_type": "display_data"
    },
    {
     "data": {
      "application/vnd.jupyter.widget-view+json": {
       "model_id": "",
       "version_major": 2,
       "version_minor": 0
      },
      "text/plain": [
       "Validation: 0it [00:00, ?it/s]"
      ]
     },
     "metadata": {},
     "output_type": "display_data"
    },
    {
     "data": {
      "application/vnd.jupyter.widget-view+json": {
       "model_id": "",
       "version_major": 2,
       "version_minor": 0
      },
      "text/plain": [
       "Validation: 0it [00:00, ?it/s]"
      ]
     },
     "metadata": {},
     "output_type": "display_data"
    },
    {
     "data": {
      "application/vnd.jupyter.widget-view+json": {
       "model_id": "",
       "version_major": 2,
       "version_minor": 0
      },
      "text/plain": [
       "Validation: 0it [00:00, ?it/s]"
      ]
     },
     "metadata": {},
     "output_type": "display_data"
    },
    {
     "data": {
      "application/vnd.jupyter.widget-view+json": {
       "model_id": "",
       "version_major": 2,
       "version_minor": 0
      },
      "text/plain": [
       "Validation: 0it [00:00, ?it/s]"
      ]
     },
     "metadata": {},
     "output_type": "display_data"
    },
    {
     "data": {
      "application/vnd.jupyter.widget-view+json": {
       "model_id": "",
       "version_major": 2,
       "version_minor": 0
      },
      "text/plain": [
       "Validation: 0it [00:00, ?it/s]"
      ]
     },
     "metadata": {},
     "output_type": "display_data"
    },
    {
     "data": {
      "application/vnd.jupyter.widget-view+json": {
       "model_id": "",
       "version_major": 2,
       "version_minor": 0
      },
      "text/plain": [
       "Validation: 0it [00:00, ?it/s]"
      ]
     },
     "metadata": {},
     "output_type": "display_data"
    },
    {
     "data": {
      "application/vnd.jupyter.widget-view+json": {
       "model_id": "",
       "version_major": 2,
       "version_minor": 0
      },
      "text/plain": [
       "Validation: 0it [00:00, ?it/s]"
      ]
     },
     "metadata": {},
     "output_type": "display_data"
    },
    {
     "data": {
      "application/vnd.jupyter.widget-view+json": {
       "model_id": "",
       "version_major": 2,
       "version_minor": 0
      },
      "text/plain": [
       "Validation: 0it [00:00, ?it/s]"
      ]
     },
     "metadata": {},
     "output_type": "display_data"
    },
    {
     "data": {
      "application/vnd.jupyter.widget-view+json": {
       "model_id": "",
       "version_major": 2,
       "version_minor": 0
      },
      "text/plain": [
       "Validation: 0it [00:00, ?it/s]"
      ]
     },
     "metadata": {},
     "output_type": "display_data"
    }
   ],
   "source": [
    "model = LitResnet(lr=0.05)\n",
    "\n",
    "trainer = Trainer(\n",
    "    max_epochs=30,\n",
    "    accelerator=\"auto\",\n",
    "    devices=1 if torch.cuda.is_available() else None,  # limiting got iPython runs\n",
    "    logger=CSVLogger(save_dir=\"logs/\"),\n",
    "    callbacks=[LearningRateMonitor(logging_interval=\"step\"), TQDMProgressBar(refresh_rate=10)],\n",
    ")\n",
    "\n",
    "trainer.fit(model, cifar10_dm)\n",
    "trainer.test(model, datamodule=cifar10_dm)"
   ]
  },
  {
   "cell_type": "code",
   "execution_count": null,
   "id": "d922588d",
   "metadata": {
    "execution": {
     "iopub.execute_input": "2022-04-28T08:21:56.074375Z",
     "iopub.status.busy": "2022-04-28T08:21:56.073844Z",
     "iopub.status.idle": "2022-04-28T08:21:57.094047Z",
     "shell.execute_reply": "2022-04-28T08:21:57.094462Z"
    },
    "id": "d922588d",
    "outputId": "68a9832d-b47f-4b74-cc3b-1de3953c5e9a",
    "papermill": {
     "duration": 1.110399,
     "end_time": "2022-04-28T08:21:57.094616",
     "exception": false,
     "start_time": "2022-04-28T08:21:55.984217",
     "status": "completed"
    },
    "tags": []
   },
   "outputs": [],
   "source": [
    "\n",
    "metrics = pd.read_csv(f\"{trainer.logger.log_dir}/metrics.csv\")\n",
    "del metrics[\"step\"]\n",
    "metrics.set_index(\"epoch\", inplace=True)\n",
    "display(metrics.dropna(axis=1, how=\"all\").head())\n",
    "sn.relplot(data=metrics, kind=\"line\")"
   ]
  }
 ],
 "metadata": {
  "colab": {
   "name": "cifar10-baseline.ipynb",
   "provenance": []
  },
  "jupytext": {
   "cell_metadata_filter": "colab_type,colab,id,-all",
   "formats": "ipynb,py:percent",
   "main_language": "python"
  },
  "kernelspec": {
   "display_name": "Python 3 (ipykernel)",
   "language": "python",
   "name": "python3"
  },
  "language_info": {
   "codemirror_mode": {
    "name": "ipython",
    "version": 3
   },
   "file_extension": ".py",
   "mimetype": "text/x-python",
   "name": "python",
   "nbconvert_exporter": "python",
   "pygments_lexer": "ipython3",
   "version": "3.8.13"
  },
  "papermill": {
   "default_parameters": {},
   "duration": 16715.805757,
   "end_time": "2022-04-28T12:54:54.351239",
   "environment_variables": {},
   "exception": null,
   "input_path": "lightning_examples/cifar10-baseline/baseline.ipynb",
   "output_path": ".notebooks/lightning_examples/cifar10-baseline.ipynb",
   "parameters": {},
   "start_time": "2022-04-28T08:16:18.545482",
   "version": "2.3.4"
  },
  "widgets": {
   "application/vnd.jupyter.widget-state+json": {}
  }
 },
 "nbformat": 4,
 "nbformat_minor": 5
}
