{
 "cells": [
  {
   "cell_type": "code",
   "execution_count": 5,
   "id": "7d87d08b",
   "metadata": {},
   "outputs": [],
   "source": [
    "import torchvision\n",
    "from matplotlib import pyplot as plt\n",
    "import numpy as np\n",
    "import torch"
   ]
  },
  {
   "cell_type": "code",
   "execution_count": 6,
   "id": "6d1b2a34",
   "metadata": {},
   "outputs": [],
   "source": [
    "labels = sorted(['beaver', 'dolphin', 'otter', 'seal', 'whale',\n",
    "                  'aquarium fish', 'flatfish', 'ray', 'shark', 'trout',\n",
    "                  'orchids', 'poppies', 'roses', 'sunflowers', 'tulips',\n",
    "                  'bottles', 'bowls', 'cans', 'cups', 'plates',\n",
    "                  'apples', 'mushrooms', 'oranges', 'pears', 'sweet peppers',\n",
    "                  'clock', 'computer keyboard', 'lamp', 'telephone', 'television',\n",
    "                  'bed', 'chair', 'couch', 'table', 'wardrobe',\n",
    "                  'bee', 'beetle', 'butterfly', 'caterpillar', 'cockroach',\n",
    "                  'bear', 'leopard', 'lion', 'tiger', 'wolf',\n",
    "                  'bridge', 'castle', 'house', 'road', 'skyscraper',\n",
    "                  'cloud', 'forest', 'mountain', 'plain', 'sea',\n",
    "                  'camel', 'cattle', 'chimpanzee', 'elephant', 'kangaroo',\n",
    "                  'fox', 'porcupine', 'possum', 'raccoon', 'skunk',\n",
    "                  'crab', 'lobster', 'snail', 'spider', 'worm',\n",
    "                  'baby', 'boy', 'girl', 'man', 'woman',\n",
    "                  'crocodile', 'dinosaur', 'lizard', 'snake', 'turtle',\n",
    "                  'hamster', 'mouse', 'rabbit', 'shrew', 'squirrel',\n",
    "                  'maple', 'oak', 'palm', 'pine', 'willow',\n",
    "                  'bicycle', 'bus', 'motorcycle', 'pickup truck', 'train',\n",
    "                  'lawn-mower', 'rocket', 'streetcar', 'tank', 'tractor'])"
   ]
  },
  {
   "cell_type": "code",
   "execution_count": 7,
   "id": "78da6258",
   "metadata": {},
   "outputs": [
    {
     "name": "stdout",
     "output_type": "stream",
     "text": [
      "{0: 'apples', 1: 'bed', 2: 'bowls', 3: 'camel', 4: 'chair', 5: 'computer keyboard', 6: 'dinosaur', 7: 'fox', 8: 'lamp', 9: 'lobster', 10: 'mouse', 11: 'otter', 12: 'plain', 13: 'rabbit', 14: 'roses', 15: 'skunk', 16: 'squirrel', 17: 'tank', 18: 'train', 19: 'whale'}\n"
     ]
    },
    {
     "data": {
      "text/plain": [
       "<matplotlib.image.AxesImage at 0x7f0039bb7430>"
      ]
     },
     "execution_count": 7,
     "metadata": {},
     "output_type": "execute_result"
    },
    {
     "data": {
      "image/png": "[encoded data removed]",
      "text/plain": [
       "<Figure size 480x480 with 1 Axes>"
      ]
     },
     "metadata": {},
     "output_type": "display_data"
    }
   ],
   "source": [
    "classes = np.arange(0, 100, 5)\n",
    "test_classlabels = [l for idx, l in enumerate(labels) if idx in classes]\n",
    "test_classlabels = {idx:l for idx, l in enumerate(test_classlabels)}\n",
    "print(test_classlabels)\n",
    "\n",
    "confusion = torchvision.io.read_image('../results/woven-sky-61/confusion_matrix.png')\n",
    "\n",
    "small_confusion = confusion[:, classes][:, :, classes]\n",
    "small_confusion = small_confusion.float().mean(dim=0)\n",
    "small_confusion /= small_confusion.sum(dim=1)\n",
    "\n",
    "plt.matshow(small_confusion)"
   ]
  },
  {
   "cell_type": "code",
   "execution_count": 8,
   "id": "490612e6",
   "metadata": {},
   "outputs": [
    {
     "name": "stdout",
     "output_type": "stream",
     "text": [
      "apples gets confused with apples\n",
      "bed gets confused with chair\n",
      "bowls gets confused with bowls\n",
      "camel gets confused with whale\n",
      "chair gets confused with chair\n",
      "computer keyboard gets confused with chair\n",
      "dinosaur gets confused with whale\n",
      "fox gets confused with plain\n",
      "lamp gets confused with computer keyboard\n",
      "lobster gets confused with chair\n",
      "mouse gets confused with squirrel\n",
      "otter gets confused with otter\n",
      "plain gets confused with whale\n",
      "rabbit gets confused with squirrel\n",
      "roses gets confused with roses\n",
      "skunk gets confused with squirrel\n",
      "squirrel gets confused with squirrel\n",
      "tank gets confused with train\n",
      "train gets confused with train\n",
      "whale gets confused with whale\n"
     ]
    }
   ],
   "source": [
    "for idx, row in enumerate(small_confusion):\n",
    "    print(test_classlabels[idx], 'gets confused with', test_classlabels[torch.argmax(row).item()])\n",
    "    "
   ]
  },
  {
   "cell_type": "code",
   "execution_count": null,
   "id": "c7f0d9f1",
   "metadata": {},
   "outputs": [],
   "source": []
  },
  {
   "cell_type": "code",
   "execution_count": null,
   "id": "6864efd4",
   "metadata": {},
   "outputs": [],
   "source": []
  },
  {
   "cell_type": "code",
   "execution_count": null,
   "id": "fa6bf365",
   "metadata": {},
   "outputs": [],
   "source": []
  },
  {
   "cell_type": "code",
   "execution_count": null,
   "id": "39bd3497",
   "metadata": {},
   "outputs": [],
   "source": []
  }
 ],
 "metadata": {
  "kernelspec": {
   "display_name": "Python 3 (ipykernel)",
   "language": "python",
   "name": "python3"
  },
  "language_info": {
   "codemirror_mode": {
    "name": "ipython",
    "version": 3
   },
   "file_extension": ".py",
   "mimetype": "text/x-python",
   "name": "python",
   "nbconvert_exporter": "python",
   "pygments_lexer": "ipython3",
   "version": "3.9.13"
  }
 },
 "nbformat": 4,
 "nbformat_minor": 5
}
