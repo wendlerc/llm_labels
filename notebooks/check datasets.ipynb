{
 "cells": [
  {
   "cell_type": "code",
   "execution_count": 4,
   "id": "38138841",
   "metadata": {},
   "outputs": [],
   "source": [
    "from torchvision.datasets import CIFAR10, CIFAR100\n",
    "from torchvision.utils import make_grid\n",
    "import numpy as np\n",
    "from matplotlib import pyplot as plt\n",
    "from collections import defaultdict\n",
    "import torch\n",
    "import torchvision "
   ]
  },
  {
   "cell_type": "code",
   "execution_count": 30,
   "id": "6cb0cf99",
   "metadata": {},
   "outputs": [],
   "source": [
    "def show(img):\n",
    "    plt.figure(figsize=(50, 500))\n",
    "    npimg = img.numpy()\n",
    "    plt.imshow(np.transpose(npimg, (1,2,0)), interpolation='nearest')"
   ]
  },
  {
   "cell_type": "code",
   "execution_count": 31,
   "id": "dceeff00",
   "metadata": {},
   "outputs": [],
   "source": [
    "d = CIFAR100('../data/datasets/')\n",
    "n_classes = 100"
   ]
  },
  {
   "cell_type": "code",
   "execution_count": 32,
   "id": "552cf8f7",
   "metadata": {},
   "outputs": [],
   "source": [
    "to_tensor = torchvision.transforms.ToTensor()"
   ]
  },
  {
   "cell_type": "code",
   "execution_count": 33,
   "id": "c8b5d360",
   "metadata": {},
   "outputs": [],
   "source": [
    "examples = defaultdict(list)\n",
    "for img, target in d:\n",
    "    if len(examples[target]) < 10:\n",
    "        examples[target] += [to_tensor(img)]   \n",
    "grid_list = []\n",
    "for cid in range(n_classes):\n",
    "    grid_list += examples[cid]\n",
    "    "
   ]
  },
  {
   "cell_type": "code",
   "execution_count": null,
   "id": "73701bed",
   "metadata": {},
   "outputs": [],
   "source": [
    "show(make_grid(grid_list, nrow=10))\n",
    "plt.savefig('../results/cifar100.pdf')"
   ]
  },
  {
   "cell_type": "code",
   "execution_count": null,
   "id": "1a4b69eb",
   "metadata": {},
   "outputs": [],
   "source": [
    "sorted(['beaver', 'dolphin', 'otter', 'seal', 'whale',\n",
    "                  'aquarium fish', 'flatfish', 'ray', 'shark', 'trout',\n",
    "                  'orchids', 'poppies', 'roses', 'sunflowers', 'tulips',\n",
    "                  'bottles', 'bowls', 'cans', 'cups', 'plates',\n",
    "                  'apples', 'mushrooms', 'oranges', 'pears', 'sweet peppers',\n",
    "                  'clock', 'computer keyboard', 'lamp', 'telephone', 'television',\n",
    "                  'bed', 'chair', 'couch', 'table', 'wardrobe',\n",
    "                  'bee', 'beetle', 'butterfly', 'caterpillar', 'cockroach',\n",
    "                  'bear', 'leopard', 'lion', 'tiger', 'wolf',\n",
    "                  'bridge', 'castle', 'house', 'road', 'skyscraper',\n",
    "                  'cloud', 'forest', 'mountain', 'plain', 'sea',\n",
    "                  'camel', 'cattle', 'chimpanzee', 'elephant', 'kangaroo',\n",
    "                  'fox', 'porcupine', 'possum', 'raccoon', 'skunk',\n",
    "                  'crab', 'lobster', 'snail', 'spider', 'worm',\n",
    "                  'baby', 'boy', 'girl', 'man', 'woman',\n",
    "                  'crocodile', 'dinosaur', 'lizard', 'snake', 'turtle',\n",
    "                  'hamster', 'mouse', 'rabbit', 'shrew', 'squirrel',\n",
    "                  'maple', 'oak', 'palm', 'pine', 'willow',\n",
    "                  'bicycle', 'bus', 'motorcycle', 'pickup truck', 'train',\n",
    "                  'lawn-mower', 'rocket', 'streetcar', 'tank', 'tractor'])"
   ]
  },
  {
   "cell_type": "code",
   "execution_count": null,
   "id": "7816bc45",
   "metadata": {},
   "outputs": [],
   "source": []
  }
 ],
 "metadata": {
  "kernelspec": {
   "display_name": "Python 3 (ipykernel)",
   "language": "python",
   "name": "python3"
  },
  "language_info": {
   "codemirror_mode": {
    "name": "ipython",
    "version": 3
   },
   "file_extension": ".py",
   "mimetype": "text/x-python",
   "name": "python",
   "nbconvert_exporter": "python",
   "pygments_lexer": "ipython3",
   "version": "3.8.13"
  }
 },
 "nbformat": 4,
 "nbformat_minor": 5
}
